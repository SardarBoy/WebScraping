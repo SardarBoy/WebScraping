{
 "cells": [
  {
   "cell_type": "code",
   "execution_count": 1,
   "id": "d45c7b53",
   "metadata": {},
   "outputs": [],
   "source": [
    "import requests\n",
    "from bs4 import BeautifulSoup as Soup"
   ]
  },
  {
   "cell_type": "code",
   "execution_count": 2,
   "id": "f5f99dd7",
   "metadata": {},
   "outputs": [],
   "source": [
    "from requests import get"
   ]
  },
  {
   "cell_type": "code",
   "execution_count": 3,
   "id": "8cb201e7",
   "metadata": {},
   "outputs": [],
   "source": [
    "url = get(\"https://www.imdb.com/title/tt3148502/?ref_=hm_tpks_tt_i_2_pd_tp1_cp\")"
   ]
  },
  {
   "cell_type": "code",
   "execution_count": 4,
   "id": "bea65fdc",
   "metadata": {},
   "outputs": [],
   "source": [
    "request = url.text"
   ]
  },
  {
   "cell_type": "code",
   "execution_count": 5,
   "id": "bc79442c",
   "metadata": {},
   "outputs": [],
   "source": [
    "soup_data = Soup(request, 'html.parser')"
   ]
  },
  {
   "cell_type": "code",
   "execution_count": 6,
   "id": "6cdb73e6",
   "metadata": {},
   "outputs": [
    {
     "data": {
      "text/plain": [
       "'Tamasha (2015) - IMDb'"
      ]
     },
     "execution_count": 6,
     "metadata": {},
     "output_type": "execute_result"
    }
   ],
   "source": [
    "soup_data.title.text"
   ]
  },
  {
   "cell_type": "code",
   "execution_count": 7,
   "id": "eedf0d10",
   "metadata": {},
   "outputs": [],
   "source": [
    "moviedata = soup_data.findAll('div',{'class':\"ipc-page-content-container ipc-page-content-container--full BaseLayout__NextPageContentContainer-sc-180q5jf-0 fWxmdE\"})\n",
    "# moviedata"
   ]
  },
  {
   "cell_type": "code",
   "execution_count": 8,
   "id": "1a2f63e6",
   "metadata": {},
   "outputs": [],
   "source": [
    "# movie_title= soup_data.find('div',{'class':\"TitleBlock__TitleContainer-sc-1nlhx7j-1 jxsVNt\"})\n",
    "# movie_title.h1"
   ]
  },
  {
   "cell_type": "code",
   "execution_count": 9,
   "id": "c172d0c0",
   "metadata": {},
   "outputs": [],
   "source": [
    "movie_title = soup_data.find(\"h1\",{'data-testid':'hero-title-block__title'}).text"
   ]
  },
  {
   "cell_type": "code",
   "execution_count": 10,
   "id": "72085d14",
   "metadata": {},
   "outputs": [
    {
     "data": {
      "text/plain": [
       "'Tamasha'"
      ]
     },
     "execution_count": 10,
     "metadata": {},
     "output_type": "execute_result"
    }
   ],
   "source": [
    "movie_title"
   ]
  },
  {
   "cell_type": "code",
   "execution_count": 21,
   "id": "6a539e36",
   "metadata": {},
   "outputs": [],
   "source": [
    "movie_year = soup_data.find(\"span\",{'class':'TitleBlockMetaData__ListItemText-sc-12ein40-2 jedhex'}).text"
   ]
  },
  {
   "cell_type": "code",
   "execution_count": 22,
   "id": "3fe91889",
   "metadata": {},
   "outputs": [
    {
     "data": {
      "text/plain": [
       "'2015'"
      ]
     },
     "execution_count": 22,
     "metadata": {},
     "output_type": "execute_result"
    }
   ],
   "source": [
    "movie_year"
   ]
  },
  {
   "cell_type": "code",
   "execution_count": 19,
   "id": "a3d15f82",
   "metadata": {},
   "outputs": [],
   "source": [
    "movie_desc = soup_data.find('span',{'data-testid':'plot-xs_to_m'}).text"
   ]
  },
  {
   "cell_type": "code",
   "execution_count": 20,
   "id": "74faf8c0",
   "metadata": {},
   "outputs": [
    {
     "data": {
      "text/plain": [
       "'Tamasha is about the journey of someone who has lost his edge in trying to follow acceptable conventions of society. The film is based on the central theme of abrasion and loss of self that ... Read all'"
      ]
     },
     "execution_count": 20,
     "metadata": {},
     "output_type": "execute_result"
    }
   ],
   "source": [
    "movie_desc"
   ]
  },
  {
   "cell_type": "code",
   "execution_count": 13,
   "id": "a5a1ed8a",
   "metadata": {},
   "outputs": [],
   "source": [
    "# movie_pic = soup_data.find('div',{'data-testid':'hero-media__poster'})\n",
    "movie_pic = soup_data.find('img',{'class':'ipc-image'})\n",
    "# movie_pic"
   ]
  },
  {
   "cell_type": "code",
   "execution_count": 23,
   "id": "2fa09be5",
   "metadata": {},
   "outputs": [
    {
     "data": {
      "text/plain": [
       "'https://m.media-amazon.com/images/M/MV5BMjA1MTc0Mjc4Ml5BMl5BanBnXkFtZTgwNjU5Nzk4NjE@._V1_QL75_UY281_CR2,0,190,281_.jpg'"
      ]
     },
     "execution_count": 23,
     "metadata": {},
     "output_type": "execute_result"
    }
   ],
   "source": [
    "img= movie_pic['src']\n",
    "img\n",
    "# movie_image = soup_data.find('img',{'class':'ipc-image'})\n",
    "# movie_image"
   ]
  },
  {
   "cell_type": "code",
   "execution_count": 15,
   "id": "a27c581e",
   "metadata": {},
   "outputs": [],
   "source": [
    "movie_rating = soup_data.find('span',{'class':'AggregateRatingButton__RatingScore-sc-1ll29m0-1 iTLWoV'}).text"
   ]
  },
  {
   "cell_type": "code",
   "execution_count": 16,
   "id": "c3dc7a56",
   "metadata": {},
   "outputs": [
    {
     "data": {
      "text/plain": [
       "'7.3'"
      ]
     },
     "execution_count": 16,
     "metadata": {},
     "output_type": "execute_result"
    }
   ],
   "source": [
    "movie_rating"
   ]
  },
  {
   "cell_type": "code",
   "execution_count": 24,
   "id": "83501cc8",
   "metadata": {},
   "outputs": [],
   "source": [
    "Name = []\n",
    "Year = []\n",
    "Rating = []\n",
    "Description = []\n",
    "Image_Link = []\n",
    "for i in moviedata :\n",
    "    Name.append(movie_title)\n",
    "    Year.append(movie_year)\n",
    "    Rating.append(movie_rating)    \n",
    "    Description.append(movie_desc)\n",
    "    Image_Link.append(img)\n",
    "    "
   ]
  },
  {
   "cell_type": "code",
   "execution_count": 26,
   "id": "fb3a831e",
   "metadata": {},
   "outputs": [
    {
     "data": {
      "text/plain": [
       "[('Tamasha',\n",
       "  '2015',\n",
       "  '7.3',\n",
       "  'Tamasha is about the journey of someone who has lost his edge in trying to follow acceptable conventions of society. The film is based on the central theme of abrasion and loss of self that ... Read all',\n",
       "  'https://m.media-amazon.com/images/M/MV5BMjA1MTc0Mjc4Ml5BMl5BanBnXkFtZTgwNjU5Nzk4NjE@._V1_QL75_UY281_CR2,0,190,281_.jpg')]"
      ]
     },
     "execution_count": 26,
     "metadata": {},
     "output_type": "execute_result"
    }
   ],
   "source": [
    "data = list(zip(Name,Year,Rating,Description,Image_Link))\n",
    "# data"
   ]
  },
  {
   "cell_type": "code",
   "execution_count": 27,
   "id": "58383ceb",
   "metadata": {},
   "outputs": [],
   "source": [
    "import pandas as pd\n",
    "df= pd.DataFrame(data,columns=['Name','Year','Rating','Description','Image_Link'])"
   ]
  },
  {
   "cell_type": "code",
   "execution_count": 59,
   "id": "e742781a",
   "metadata": {},
   "outputs": [
    {
     "data": {
      "text/html": [
       "<div>\n",
       "<style scoped>\n",
       "    .dataframe tbody tr th:only-of-type {\n",
       "        vertical-align: middle;\n",
       "    }\n",
       "\n",
       "    .dataframe tbody tr th {\n",
       "        vertical-align: top;\n",
       "    }\n",
       "\n",
       "    .dataframe thead th {\n",
       "        text-align: right;\n",
       "    }\n",
       "</style>\n",
       "<table border=\"1\" class=\"dataframe\">\n",
       "  <thead>\n",
       "    <tr style=\"text-align: right;\">\n",
       "      <th></th>\n",
       "      <th>Name</th>\n",
       "      <th>Year</th>\n",
       "      <th>Rating</th>\n",
       "      <th>Description</th>\n",
       "      <th>Image_Link</th>\n",
       "    </tr>\n",
       "  </thead>\n",
       "  <tbody>\n",
       "    <tr>\n",
       "      <th>0</th>\n",
       "      <td>Tamasha</td>\n",
       "      <td>2015</td>\n",
       "      <td>7.3</td>\n",
       "      <td>Tamasha is about the journey of someone who has lost his edge in trying to follow acceptable conventions of society. The film is based on the central theme of abrasion and loss of self that ... Read all</td>\n",
       "      <td>https://m.media-amazon.com/images/M/MV5BMjA1MTc0Mjc4Ml5BMl5BanBnXkFtZTgwNjU5Nzk4NjE@._V1_QL75_UY281_CR2,0,190,281_.jpg</td>\n",
       "    </tr>\n",
       "  </tbody>\n",
       "</table>\n",
       "</div>"
      ],
      "text/plain": [
       "      Name  Year Rating  \\\n",
       "0  Tamasha  2015    7.3   \n",
       "\n",
       "                                                                                                                                                                                                  Description  \\\n",
       "0  Tamasha is about the journey of someone who has lost his edge in trying to follow acceptable conventions of society. The film is based on the central theme of abrasion and loss of self that ... Read all   \n",
       "\n",
       "                                                                                                               Image_Link  \n",
       "0  https://m.media-amazon.com/images/M/MV5BMjA1MTc0Mjc4Ml5BMl5BanBnXkFtZTgwNjU5Nzk4NjE@._V1_QL75_UY281_CR2,0,190,281_.jpg  "
      ]
     },
     "metadata": {},
     "output_type": "display_data"
    }
   ],
   "source": [
    "with pd.option_context('display.max_rows', None, 'display.max_columns', None, 'max_colwidth',None):\n",
    "    display(df)"
   ]
  },
  {
   "cell_type": "code",
   "execution_count": 60,
   "id": "046c9482",
   "metadata": {},
   "outputs": [],
   "source": [
    "# df.to_json()"
   ]
  },
  {
   "cell_type": "code",
   "execution_count": 52,
   "id": "88c13b5e",
   "metadata": {},
   "outputs": [],
   "source": [
    "# df.to_csv('myfile.csv')"
   ]
  },
  {
   "cell_type": "code",
   "execution_count": null,
   "id": "6324b95e",
   "metadata": {},
   "outputs": [],
   "source": []
  }
 ],
 "metadata": {
  "kernelspec": {
   "display_name": "Python 3 (ipykernel)",
   "language": "python",
   "name": "python3"
  },
  "language_info": {
   "codemirror_mode": {
    "name": "ipython",
    "version": 3
   },
   "file_extension": ".py",
   "mimetype": "text/x-python",
   "name": "python",
   "nbconvert_exporter": "python",
   "pygments_lexer": "ipython3",
   "version": "3.9.6"
  }
 },
 "nbformat": 4,
 "nbformat_minor": 5
}
